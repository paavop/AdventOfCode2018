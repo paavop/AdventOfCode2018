{
 "cells": [
  {
   "cell_type": "markdown",
   "metadata": {},
   "source": [
    "# Advent of code 2018\n",
    "\n",
    "Lets start with necessary imports"
   ]
  },
  {
   "cell_type": "code",
   "execution_count": 39,
   "metadata": {},
   "outputs": [],
   "source": [
    "import urllib.request as urllib2  # the lib that handles the url stuff\n",
    "from datetime import datetime\n",
    "from datetime import timedelta\n",
    "import operator"
   ]
  },
  {
   "cell_type": "markdown",
   "metadata": {},
   "source": [
    "### Day 1\n",
    "\n",
    "The first part requires us to get a sum of numbers found in a txt file."
   ]
  },
  {
   "cell_type": "code",
   "execution_count": 9,
   "metadata": {},
   "outputs": [
    {
     "name": "stdout",
     "output_type": "stream",
     "text": [
      "Sum of numbers is:\n",
      "406\n"
     ]
    }
   ],
   "source": [
    "fname = \"day/1/input.txt\"\n",
    "with open(fname) as f:\n",
    "    content = f.readlines()\n",
    "day_1_content = [int(i) for i in content]\n",
    "print(\"Sum of numbers is:\")\n",
    "print(sum(day_1_content))"
   ]
  },
  {
   "cell_type": "markdown",
   "metadata": {},
   "source": [
    "In the second part, we have to keep summing the numbers found in the text file until we have found the first sum repeated twice"
   ]
  },
  {
   "cell_type": "code",
   "execution_count": 8,
   "metadata": {},
   "outputs": [
    {
     "name": "stdout",
     "output_type": "stream",
     "text": [
      "First sum found twice is:\n",
      "312\n"
     ]
    }
   ],
   "source": [
    "def find_reoccurring_frequency(number_list):\n",
    "    not_found = True\n",
    "    current_sum = 0\n",
    "    sum_history = {}\n",
    "    while(not_found):\n",
    "        for number in number_list:\n",
    "            current_sum += number\n",
    "            if (current_sum in sum_history):\n",
    "                print(\"First sum found twice is:\")\n",
    "                print(current_sum)\n",
    "                not_found = False\n",
    "                break\n",
    "            else:\n",
    "                sum_history[current_sum] = 1\n",
    "\n",
    "find_reoccurring_frequency(day_1_content)"
   ]
  },
  {
   "cell_type": "markdown",
   "metadata": {},
   "source": [
    "### Day 2\n",
    "\n",
    "The first part requires us to get find all entries of text blocks that have 2 or 3 of the same character. Multiplying the count of these gives the result."
   ]
  },
  {
   "cell_type": "code",
   "execution_count": 12,
   "metadata": {},
   "outputs": [
    {
     "name": "stdout",
     "output_type": "stream",
     "text": [
      "5390\n",
      "nvosmkcdtdbfhyxsphzgraljq\n"
     ]
    }
   ],
   "source": [
    "fname = \"day/2/input.txt\"\n",
    "with open(fname) as f:\n",
    "    content = f.readlines()\n",
    "day_2_content = [i.rstrip() for i in content]\n",
    "#print(day_2_content)\n",
    "\n",
    "def find_checksum(content):\n",
    "    double = 0\n",
    "    triple = 0\n",
    "    for s in content:\n",
    "        tmp = {}\n",
    "        for letter in s:\n",
    "            if letter in tmp:\n",
    "                tmp[letter] += 1\n",
    "            else:\n",
    "                tmp[letter] = 1\n",
    "        if (2 in tmp.values()):\n",
    "            double += 1\n",
    "        if (3 in tmp.values()):\n",
    "            triple += 1\n",
    "    print (double*triple)\n",
    "\n",
    "def find_diff_of_one(content):\n",
    "    for word1 in content:\n",
    "        finished = False\n",
    "        for word2 in content:\n",
    "            differences = 0\n",
    "            for i in range(len(word1)):\n",
    "                if (word1[i]!=word2[i]):\n",
    "                    differences+=1\n",
    "            if (differences == 1):\n",
    "                common = \"\"\n",
    "                for i in range(len(word1)):\n",
    "                    if (word1[i]==word2[i]):\n",
    "                        common += word1[i]\n",
    "                print(common)\n",
    "                finished = True\n",
    "                break\n",
    "        if (finished):\n",
    "            break\n",
    "\n",
    "find_checksum(day_2_content)\n",
    "find_diff_of_one(day_2_content)"
   ]
  },
  {
   "cell_type": "markdown",
   "metadata": {},
   "source": [
    "### Day 4\n"
   ]
  },
  {
   "cell_type": "code",
   "execution_count": 75,
   "metadata": {},
   "outputs": [
    {
     "name": "stdout",
     "output_type": "stream",
     "text": [
      "72925\n",
      "49137\n"
     ]
    }
   ],
   "source": [
    "fname = \"day/4/input.txt\"\n",
    "with open(fname) as f:\n",
    "    content = f.readlines()\n",
    "day_4_content = [i.rstrip() for i in content]\n",
    "\n",
    "\n",
    "def get_sorted_entries(content):\n",
    "    entrylist = []\n",
    "    for entrystring in day_4_content:\n",
    "        date = datetime.strptime(entrystring.split(']')[0][1:], '%Y-%m-%d %H:%M')\n",
    "        entrylist.append({\"time\":date, \"msg\" : entrystring.split(']')[1]})\n",
    "    sortedentries = sorted(entrylist, key=lambda r: r['time'])\n",
    "    return sortedentries\n",
    "\n",
    "def generate_guard_history(sortedentries):\n",
    "    guard_history = {}\n",
    "    guard = \"\"\n",
    "    sleepytime = 0\n",
    "    for entry in sortedentries:\n",
    "        if \"Guard\" in entry['msg']:\n",
    "            guard = entry['msg'].split('#')[1].split(' ')[0]\n",
    "        if \"falls asleep\" in entry['msg']:\n",
    "            sleepytime = entry['time']\n",
    "        if \"wakes\" in entry['msg']:\n",
    "            if not guard in guard_history:\n",
    "                guard_history[guard] = {\"total\":0, \"times\":{}}\n",
    "            while sleepytime < entry['time']:\n",
    "                guard_history[guard][\"total\"] += 1\n",
    "                clock = sleepytime.strftime(\"%M\")\n",
    "                if (clock in guard_history[guard][\"times\"]):\n",
    "                    guard_history[guard][\"times\"][clock] +=1\n",
    "                else:\n",
    "                    guard_history[guard][\"times\"][clock]=0\n",
    "                sleepytime += timedelta(minutes=1)\n",
    "    return guard_history\n",
    "\n",
    "def get_max_sleeper_times_max_minute(guard_history):\n",
    "    maxim = 0\n",
    "    maxguard = \"\"\n",
    "    for guard in guard_history.items():\n",
    "        if guard[1]['total'] > maxim:\n",
    "            maxim = guard[1]['total']\n",
    "            maxguard = guard[0]\n",
    "    maxtimes = guard_history[maxguard][\"times\"]\n",
    "    max_key = max(maxtimes, key=lambda k: maxtimes[k])\n",
    "    return int(maxguard)*int(max_key)\n",
    "\n",
    "def get_most_frequent_sleep_minute_times_sleeper(guard_history):\n",
    "    maxim = 0\n",
    "    maxmin = 0\n",
    "    maxguard = 0\n",
    "    for guard in guard_history.items():\n",
    "        for time in guard[1][\"times\"].items():\n",
    "            if (time[1] > maxim):\n",
    "                maxim = time[1]\n",
    "                maxguard = guard[0]\n",
    "                maxmin = time[0]\n",
    "    return int(maxmin)*int(maxguard)        \n",
    "\n",
    "sortedentries = get_sorted_entries(day_4_content)\n",
    "guard_history = generate_guard_history(sortedentries)\n",
    "part1_ans = get_max_sleeper_times_max_minute(guard_history)\n",
    "print(part1_ans)\n",
    "part2_ans = get_most_frequent_sleep_minute_times_sleeper(guard_history)\n",
    "print(part2_ans)\n",
    "\n",
    "\n",
    "\n",
    "\n",
    "    "
   ]
  },
  {
   "cell_type": "markdown",
   "metadata": {},
   "source": [
    "### Day 5"
   ]
  },
  {
   "cell_type": "code",
   "execution_count": 135,
   "metadata": {},
   "outputs": [
    {
     "name": "stdout",
     "output_type": "stream",
     "text": [
      "10886\n",
      "('v', 4684)\n"
     ]
    }
   ],
   "source": [
    "fname = \"day/5/input.txt\"\n",
    "content = []\n",
    "with open(fname) as f:\n",
    "    content = f.readlines()\n",
    "day_5_content = content[0].rstrip()\n",
    "\n",
    "alphabet = \"abcdefghijklmnopqrstuvwxyz\"\n",
    "reactable = [c + c.upper() for c in alphabet]\n",
    "reactable += [c.upper() + c for c in alphabet]\n",
    "\n",
    "reacting = True\n",
    "def reaction_start(polymer):\n",
    "    while(True):\n",
    "        old = polymer\n",
    "        for pair in reactable:\n",
    "            polymer = polymer.replace(pair, '')\n",
    "        if (polymer == old):\n",
    "            break\n",
    "    return polymer\n",
    "print(len(reaction_start(day_5_content)))\n",
    "\n",
    "\n",
    "results = []\n",
    "for c in alphabet:\n",
    "    test_str = day_5_content.replace(c, '')    \n",
    "    test_str = test_str.replace(c.upper(), '')\n",
    "    results.append((c, len(reaction_start(test_str))))\n",
    "print(min(results, key = lambda t: t[1]))"
   ]
  }
 ],
 "metadata": {
  "kernelspec": {
   "display_name": "Python 3",
   "language": "python",
   "name": "python3"
  },
  "language_info": {
   "codemirror_mode": {
    "name": "ipython",
    "version": 3
   },
   "file_extension": ".py",
   "mimetype": "text/x-python",
   "name": "python",
   "nbconvert_exporter": "python",
   "pygments_lexer": "ipython3",
   "version": "3.6.6"
  }
 },
 "nbformat": 4,
 "nbformat_minor": 2
}
